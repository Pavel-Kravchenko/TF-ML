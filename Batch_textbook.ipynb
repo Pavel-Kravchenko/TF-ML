{
 "cells": [
  {
   "cell_type": "code",
   "execution_count": 4,
   "metadata": {},
   "outputs": [
    {
     "data": {
      "text/html": [
       "<style>.output_wrapper, .output {    height:auto !important;max-height:1000px;  /* your desired max-height here */}.output_scroll {    box-shadow:none !important;    webkit-box-shadow:none !important;}</style>"
      ],
      "text/plain": [
       "<IPython.core.display.HTML object>"
      ]
     },
     "metadata": {},
     "output_type": "display_data"
    }
   ],
   "source": [
    "import os\n",
    "import re\n",
    "import sys\n",
    "import argparse\n",
    "import subprocess\n",
    "import time\n",
    "\n",
    "import pandas as pd\n",
    "import numpy as np\n",
    "import matplotlib.pyplot as plt\n",
    "from IPython.core.display import display, HTML\n",
    "display(HTML(\"<style>.output_wrapper, .output {    height:auto !important;max-height:1000px;  /* your desired max-height here */}.output_scroll {    box-shadow:none !important;    webkit-box-shadow:none !important;}</style>\"))\n",
    "\n",
    "#import tqdm"
   ]
  },
  {
   "cell_type": "code",
   "execution_count": 5,
   "metadata": {},
   "outputs": [
    {
     "data": {
      "text/plain": [
       "Text(0.5,1,'Number of classes')"
      ]
     },
     "execution_count": 5,
     "metadata": {},
     "output_type": "execute_result"
    },
    {
     "data": {
      "image/png": "[encoded data removed]",
      "text/plain": [
       "<Figure size 432x288 with 1 Axes>"
      ]
     },
     "metadata": {},
     "output_type": "display_data"
    }
   ],
   "source": [
    "import seaborn as sns\n",
    "data = pd.read_csv(\"./train_list.txt\", header=None)\n",
    "\n",
    "a = []\n",
    "for x in data[0]:\n",
    "    a.append(\"_\".join(x.split(\".\")[:2]))\n",
    "    \n",
    "data[0] = np.array(a)\n",
    "data.head()\n",
    "\n",
    "sns.countplot(x=0, palette='RdBu', data=data)\n",
    "plt.title('Number of classes')\n"
   ]
  },
  {
   "cell_type": "code",
   "execution_count": 93,
   "metadata": {},
   "outputs": [
    {
     "name": "stdout",
     "output_type": "stream",
     "text": [
      "28612\n",
      "28613\n",
      "\n",
      "28612\n"
     ]
    },
    {
     "ename": "TypeError",
     "evalue": "unsupported operand type(s) for +: 'int' and 'str'",
     "output_type": "error",
     "traceback": [
      "\u001b[0;31m---------------------------------------------------------------------------\u001b[0m",
      "\u001b[0;31mTypeError\u001b[0m                                 Traceback (most recent call last)",
      "\u001b[0;32m<ipython-input-93-8f269fe220cd>\u001b[0m in \u001b[0;36m<module>\u001b[0;34m()\u001b[0m\n\u001b[1;32m     18\u001b[0m \u001b[0mprint\u001b[0m\u001b[0;34m(\u001b[0m\u001b[0mlen\u001b[0m\u001b[0;34m(\u001b[0m\u001b[0mdf\u001b[0m\u001b[0;34m[\u001b[0m\u001b[0;34m\"Name\"\u001b[0m\u001b[0;34m]\u001b[0m\u001b[0;34m)\u001b[0m\u001b[0;34m)\u001b[0m\u001b[0;34m\u001b[0m\u001b[0m\n\u001b[1;32m     19\u001b[0m \u001b[0;34m\u001b[0m\u001b[0m\n\u001b[0;32m---> 20\u001b[0;31m \u001b[0mdf1\u001b[0m \u001b[0;34m=\u001b[0m \u001b[0mdf\u001b[0m\u001b[0;34m.\u001b[0m\u001b[0mgroupby\u001b[0m\u001b[0;34m(\u001b[0m\u001b[0;34m'Name'\u001b[0m\u001b[0;34m)\u001b[0m\u001b[0;34m.\u001b[0m\u001b[0mapply\u001b[0m\u001b[0;34m(\u001b[0m\u001b[0msum_apply\u001b[0m\u001b[0;34m)\u001b[0m\u001b[0;34m\u001b[0m\u001b[0m\n\u001b[0m\u001b[1;32m     21\u001b[0m \u001b[0;34m\u001b[0m\u001b[0m\n\u001b[1;32m     22\u001b[0m \u001b[0;34m\u001b[0m\u001b[0m\n",
      "\u001b[0;32m~/anaconda3/lib/python3.6/site-packages/pandas/core/groupby.py\u001b[0m in \u001b[0;36mapply\u001b[0;34m(self, func, *args, **kwargs)\u001b[0m\n\u001b[1;32m    803\u001b[0m         \u001b[0;31m# ignore SettingWithCopy here in case the user mutates\u001b[0m\u001b[0;34m\u001b[0m\u001b[0;34m\u001b[0m\u001b[0m\n\u001b[1;32m    804\u001b[0m         \u001b[0;32mwith\u001b[0m \u001b[0moption_context\u001b[0m\u001b[0;34m(\u001b[0m\u001b[0;34m'mode.chained_assignment'\u001b[0m\u001b[0;34m,\u001b[0m \u001b[0;32mNone\u001b[0m\u001b[0;34m)\u001b[0m\u001b[0;34m:\u001b[0m\u001b[0;34m\u001b[0m\u001b[0m\n\u001b[0;32m--> 805\u001b[0;31m             \u001b[0;32mreturn\u001b[0m \u001b[0mself\u001b[0m\u001b[0;34m.\u001b[0m\u001b[0m_python_apply_general\u001b[0m\u001b[0;34m(\u001b[0m\u001b[0mf\u001b[0m\u001b[0;34m)\u001b[0m\u001b[0;34m\u001b[0m\u001b[0m\n\u001b[0m\u001b[1;32m    806\u001b[0m \u001b[0;34m\u001b[0m\u001b[0m\n\u001b[1;32m    807\u001b[0m     \u001b[0;32mdef\u001b[0m \u001b[0m_python_apply_general\u001b[0m\u001b[0;34m(\u001b[0m\u001b[0mself\u001b[0m\u001b[0;34m,\u001b[0m \u001b[0mf\u001b[0m\u001b[0;34m)\u001b[0m\u001b[0;34m:\u001b[0m\u001b[0;34m\u001b[0m\u001b[0m\n",
      "\u001b[0;32m~/anaconda3/lib/python3.6/site-packages/pandas/core/groupby.py\u001b[0m in \u001b[0;36m_python_apply_general\u001b[0;34m(self, f)\u001b[0m\n\u001b[1;32m    807\u001b[0m     \u001b[0;32mdef\u001b[0m \u001b[0m_python_apply_general\u001b[0m\u001b[0;34m(\u001b[0m\u001b[0mself\u001b[0m\u001b[0;34m,\u001b[0m \u001b[0mf\u001b[0m\u001b[0;34m)\u001b[0m\u001b[0;34m:\u001b[0m\u001b[0;34m\u001b[0m\u001b[0m\n\u001b[1;32m    808\u001b[0m         keys, values, mutated = self.grouper.apply(f, self._selected_obj,\n\u001b[0;32m--> 809\u001b[0;31m                                                    self.axis)\n\u001b[0m\u001b[1;32m    810\u001b[0m \u001b[0;34m\u001b[0m\u001b[0m\n\u001b[1;32m    811\u001b[0m         return self._wrap_applied_output(\n",
      "\u001b[0;32m~/anaconda3/lib/python3.6/site-packages/pandas/core/groupby.py\u001b[0m in \u001b[0;36mapply\u001b[0;34m(self, f, data, axis)\u001b[0m\n\u001b[1;32m   1967\u001b[0m             \u001b[0;31m# group might be modified\u001b[0m\u001b[0;34m\u001b[0m\u001b[0;34m\u001b[0m\u001b[0m\n\u001b[1;32m   1968\u001b[0m             \u001b[0mgroup_axes\u001b[0m \u001b[0;34m=\u001b[0m \u001b[0m_get_axes\u001b[0m\u001b[0;34m(\u001b[0m\u001b[0mgroup\u001b[0m\u001b[0;34m)\u001b[0m\u001b[0;34m\u001b[0m\u001b[0m\n\u001b[0;32m-> 1969\u001b[0;31m             \u001b[0mres\u001b[0m \u001b[0;34m=\u001b[0m \u001b[0mf\u001b[0m\u001b[0;34m(\u001b[0m\u001b[0mgroup\u001b[0m\u001b[0;34m)\u001b[0m\u001b[0;34m\u001b[0m\u001b[0m\n\u001b[0m\u001b[1;32m   1970\u001b[0m             \u001b[0;32mif\u001b[0m \u001b[0;32mnot\u001b[0m \u001b[0m_is_indexed_like\u001b[0m\u001b[0;34m(\u001b[0m\u001b[0mres\u001b[0m\u001b[0;34m,\u001b[0m \u001b[0mgroup_axes\u001b[0m\u001b[0;34m)\u001b[0m\u001b[0;34m:\u001b[0m\u001b[0;34m\u001b[0m\u001b[0m\n\u001b[1;32m   1971\u001b[0m                 \u001b[0mmutated\u001b[0m \u001b[0;34m=\u001b[0m \u001b[0;32mTrue\u001b[0m\u001b[0;34m\u001b[0m\u001b[0m\n",
      "\u001b[0;32m<ipython-input-93-8f269fe220cd>\u001b[0m in \u001b[0;36msum_apply\u001b[0;34m(df)\u001b[0m\n\u001b[1;32m      1\u001b[0m \u001b[0;32mdef\u001b[0m \u001b[0msum_apply\u001b[0m\u001b[0;34m(\u001b[0m\u001b[0mdf\u001b[0m\u001b[0;34m)\u001b[0m\u001b[0;34m:\u001b[0m\u001b[0;34m\u001b[0m\u001b[0m\n\u001b[0;32m----> 2\u001b[0;31m     \u001b[0;32mreturn\u001b[0m \u001b[0msum\u001b[0m\u001b[0;34m(\u001b[0m\u001b[0mdf\u001b[0m\u001b[0;34m)\u001b[0m\u001b[0;34m\u001b[0m\u001b[0m\n\u001b[0m\u001b[1;32m      3\u001b[0m \u001b[0;34m\u001b[0m\u001b[0m\n\u001b[1;32m      4\u001b[0m \u001b[0mdata_name\u001b[0m \u001b[0;34m=\u001b[0m \u001b[0mpd\u001b[0m\u001b[0;34m.\u001b[0m\u001b[0mread_csv\u001b[0m\u001b[0;34m(\u001b[0m\u001b[0;34m\"./train_list.txt\"\u001b[0m\u001b[0;34m,\u001b[0m \u001b[0mheader\u001b[0m\u001b[0;34m=\u001b[0m\u001b[0;32mNone\u001b[0m\u001b[0;34m)\u001b[0m\u001b[0;34m\u001b[0m\u001b[0m\n\u001b[1;32m      5\u001b[0m \u001b[0ma\u001b[0m \u001b[0;34m=\u001b[0m \u001b[0;34m[\u001b[0m\u001b[0;34m]\u001b[0m\u001b[0;34m\u001b[0m\u001b[0m\n",
      "\u001b[0;31mTypeError\u001b[0m: unsupported operand type(s) for +: 'int' and 'str'"
     ]
    }
   ],
   "source": [
    "def sum_apply(df):\n",
    "    return sum(df)\n",
    "\n",
    "data_name = pd.read_csv(\"./train_list.txt\", header=None)\n",
    "a = []\n",
    "for x in data_name[0]:\n",
    "    a.append(\"_\".join(x.split(\".\")[:2]))\n",
    "    \n",
    "data_name[0] = np.array(a)\n",
    "\n",
    "print(len(data_name[0]))\n",
    "\n",
    "data_N = pd.read_csv(\"./train_N_fasta_in_files.txt\", header=None)\n",
    "print(len(data_N[0]))\n",
    "\n",
    "print(\"\")\n",
    "df = pd.DataFrame({\"Name\": list(data_name[0]), \"Count\": list(data_N[0])[1:]})\n",
    "print(len(df[\"Name\"]))\n",
    "\n",
    "df1 = df.groupby('Name').agg(sum_apply)\n",
    "\n",
    "\n",
    "#df1['Name'], df1['Count'] = df1['Count'].str().split(' ', 1).str\n",
    "df1.head()"
   ]
  },
  {
   "cell_type": "code",
   "execution_count": 97,
   "metadata": {},
   "outputs": [
    {
     "name": "stdout",
     "output_type": "stream",
     "text": [
      "The rpy2.ipython extension is already loaded. To reload it, use:\n",
      "  %reload_ext rpy2.ipython\n"
     ]
    }
   ],
   "source": [
    "% load_ext rpy2.ipython\n",
    "import rpy2.robjects as robj"
   ]
  },
  {
   "cell_type": "code",
   "execution_count": 207,
   "metadata": {},
   "outputs": [
    {
     "data": {
      "text/plain": [
       "[1] 28612\n",
       "[1] 872\n",
       "[1] 228\n",
       "[1] 499746\n"
      ]
     },
     "metadata": {},
     "output_type": "display_data"
    },
    {
     "data": {
      "image/png": "[encoded data removed]"
     },
     "metadata": {},
     "output_type": "display_data"
    }
   ],
   "source": [
    "%%R\n",
    "library(readr)\n",
    "library(dplyr)\n",
    "library(tidyr)\n",
    "library(magrittr)\n",
    "library(ggrepel)\n",
    "library(ggpubr)\n",
    "library(reshape2)\n",
    "library(data.table)\n",
    "library(ggplot2)\n",
    "library(forcats)\n",
    "library(stringr)\n",
    "\n",
    "train_N_fasta_in_files <- read_csv(\"~/Desktop/TF_motives/train_N_fasta_in_files.txt\")\n",
    "#head(train_N_fasta_in_files)\n",
    "train_list <- read_csv(\"/home/pavel/Desktop/TF_motives/train_list.txt\", col_names = FALSE)\n",
    "#head(train_list)\n",
    "\n",
    "train_list$Count = train_N_fasta_in_files$\"0\"\n",
    "colnames(train_list)[colnames(train_list)==\"X1\"] <- \"Names\"\n",
    "print(nrow(train_list))\n",
    "\n",
    "train_list$Names = gsub(\".PEAKS.+\", \"\\\\1\", train_list$Names)\n",
    "\n",
    "train_list_plot = train_list %>% group_by(Names) %>% summarize(Count = sum(Count))\n",
    "print(nrow(train_list_plot))\n",
    "\n",
    "head(train_list_plot)\n",
    "print(min(train_list_plot$Count))\n",
    "print(max(train_list_plot$Count))\n",
    "\n",
    "ggplot(train_list_plot %>% filter(Count>100000), aes(x=fct_reorder(Names ,Count), y=Count)) +\n",
    "  geom_histogram(stat=\"identity\") +\n",
    "  theme(axis.text.x = element_text(angle = 90, vjust=0.5, hjust = 1)) +\n",
    "  ggtitle('Numder of sequences in files per TF (Count>100000)') +\n",
    "  labs(x = \"Name of TF\", y = \"Number of sequences\") +\n",
    "  scale_fill_gradient(low ='light blue', high='navyblue')+\n",
    "  theme(text = element_text(size = 18),\n",
    "        axis.title.x = element_blank(),\n",
    "        axis.title.y = element_blank(),\n",
    "        panel.grid.minor.x = element_blank(),\n",
    "        panel.grid.major.x = element_blank())\n",
    "\n"
   ]
  },
  {
   "cell_type": "code",
   "execution_count": 206,
   "metadata": {},
   "outputs": [
    {
     "data": {
      "text/plain": [
       "[1] 28612\n",
       "[1] 872\n",
       "[1] 2\n",
       "[1] 1004\n"
      ]
     },
     "metadata": {},
     "output_type": "display_data"
    },
    {
     "data": {
      "image/png": "[encoded data removed]"
     },
     "metadata": {},
     "output_type": "display_data"
    }
   ],
   "source": [
    "%%R\n",
    "library(readr)\n",
    "library(dplyr)\n",
    "library(tidyr)\n",
    "library(magrittr)\n",
    "library(ggrepel)\n",
    "library(ggpubr)\n",
    "library(reshape2)\n",
    "library(data.table)\n",
    "library(ggplot2)\n",
    "library(forcats)\n",
    "library(stringr)\n",
    "\n",
    "train_N_fasta_in_files <- read_csv(\"~/Desktop/TF_motives/train_N_fasta_in_files.txt\")\n",
    "#head(train_N_fasta_in_files)\n",
    "train_list <- read_csv(\"/home/pavel/Desktop/TF_motives/train_list.txt\", col_names = FALSE)\n",
    "#head(train_list)\n",
    "\n",
    "train_list$Count = train_N_fasta_in_files$\"0\"\n",
    "colnames(train_list)[colnames(train_list)==\"X1\"] <- \"Names\"\n",
    "print(nrow(train_list))\n",
    "\n",
    "train_list$Names = gsub(\".PEAKS.+\", \"\\\\1\", train_list$Names)\n",
    "\n",
    "train_list_plot = train_list %>% group_by(Names) %>% summarize(Count = n())\n",
    "print(nrow(train_list_plot))\n",
    "\n",
    "head(train_list_plot)\n",
    "print(min(train_list_plot$Count))\n",
    "print(max(train_list_plot$Count))\n",
    "\n",
    "ggplot(train_list_plot %>% filter(Count>250), aes(x=fct_reorder(Names ,Count), y=Count)) +\n",
    "  geom_histogram(stat=\"identity\") +\n",
    "  theme(axis.text.x = element_text(angle = 90, vjust=0.5, hjust = 1)) +\n",
    "  ggtitle('Numder of files per TF (Count>250)') +\n",
    "  labs(x = \"Name of TF\", y = \"Number of files\") +\n",
    "  scale_fill_gradient(low ='light blue', high='navyblue')+\n",
    "  theme(text = element_text(size = 18),\n",
    "        axis.title.x = element_blank(),\n",
    "        axis.title.y = element_blank(),\n",
    "        panel.grid.minor.x = element_blank(),\n",
    "        panel.grid.major.x = element_blank())\n",
    "\n"
   ]
  },
  {
   "cell_type": "code",
   "execution_count": null,
   "metadata": {},
   "outputs": [],
   "source": []
  },
  {
   "cell_type": "code",
   "execution_count": 7,
   "metadata": {
    "collapsed": true
   },
   "outputs": [],
   "source": [
    "root = os.path.abspath('./')\n",
    "#print(root)\n",
    "inputdir = os.path.abspath('train/')\n",
    "#print(inputdir)\n",
    "outputdir = os.path.abspath('temp/result')\n",
    "\n",
    "if not os.path.exists(outputdir):\n",
    "    os.makedirs(outputdir)\n",
    "\n",
    "files_train = [f for f in os.listdir(inputdir) if os.path.splitdrive(f)[1].split(\".\")[0] == 'ANDR_HUMAN']\n",
    "files_test = [f for f in os.listdir(inputdir) if os.path.splitdrive(f)[1].split(\".\")[0] != 'ANDR_HUMAN']\n",
    "files_all = [f for f in os.listdir(inputdir) if os.path.splitext(f)[1] == '.mfa']\n",
    "\n",
    "#print(files_train)\n",
    "#print(files_test)\n",
    "pwm = os.path.abspath('pwm/mono/ANDR_HUMAN/')\n",
    "files_pwm = [f for f in os.listdir(pwm) if os.path.splitext(f)[1] == '.pwm']\n",
    "#print(\"_\".join(files_pwm[0].split(\"~\")[2].split(\".\")[:-1]))"
   ]
  },
  {
   "cell_type": "code",
   "execution_count": 4,
   "metadata": {},
   "outputs": [],
   "source": [
    "#files_pwm"
   ]
  },
  {
   "cell_type": "code",
   "execution_count": 8,
   "metadata": {
    "collapsed": true
   },
   "outputs": [],
   "source": [
    "#indexing mfa files\n",
    "\n",
    "from itertools import groupby\n",
    "\n",
    "def fasta_iter(f):\n",
    "    faiter = (x[1] for x in groupby(f, lambda line: line[0] == \">\"))\n",
    "\n",
    "    for header in faiter:\n",
    "        headerStr = header.__next__()[1:].strip()\n",
    "        seq = \"\".join(s.strip() for s in faiter.__next__())\n",
    "        yield (headerStr, seq)\n"
   ]
  },
  {
   "cell_type": "code",
   "execution_count": 6,
   "metadata": {
    "collapsed": true,
    "scrolled": true
   },
   "outputs": [],
   "source": [
    "outfile = open(outputdir + \"/all_mfa_indexing_file.fasta\", \"w\")        \n",
    "index_global = 0\n",
    "for i in files_all:\n",
    "    headerStr_base = \"_\".join(i.split(\".\")[:-1])\n",
    "    #print(headerStr_base)\n",
    "    with open(inputdir + \"/\" + i, \"r\") as f:\n",
    "        fiter = fasta_iter(f)\n",
    "        index_local = 0\n",
    "        for seq_rec in fiter:\n",
    "            headerStr_new = headerStr_base + \"_globalInd_\" + str(index_global) + \"_localInd_\" + str(index_local)\n",
    "            headerStr, seq = seq_rec\n",
    "            outfile.write(\">\" + headerStr_new + \"\\n\" + seq + \"\\n\")\n",
    "            index_local += 1\n",
    "    index_global += 1\n",
    "    #break\n",
    "\n",
    "outfile.close()"
   ]
  },
  {
   "cell_type": "code",
   "execution_count": 7,
   "metadata": {
    "collapsed": true
   },
   "outputs": [],
   "source": [
    "!awk 'NF' ~/temp/result/all_mfa_indexing_file.fasta > ~/temp/result/all_mfa_indexing_file_no_NF.fasta"
   ]
  },
  {
   "cell_type": "code",
   "execution_count": 8,
   "metadata": {
    "collapsed": true
   },
   "outputs": [],
   "source": [
    "good_file = open(root + \"/good_files.txt\", \"r\") \n",
    "good_lines = [x for x in good_file.read().strip().split()]\n",
    "#print(good_lines)"
   ]
  },
  {
   "cell_type": "code",
   "execution_count": 9,
   "metadata": {
    "collapsed": true
   },
   "outputs": [],
   "source": [
    "f = open(outputdir + \"/all_mfa_indexing_file_no_NF.fasta\", \"r\") \n",
    "fiter = fasta_iter(f)\n",
    "for seq_rec in fiter:\n",
    "    headerStr, seq = seq_rec\n",
    "    #print(headerStr)    "
   ]
  },
  {
   "cell_type": "code",
   "execution_count": 10,
   "metadata": {},
   "outputs": [
    {
     "name": "stdout",
     "output_type": "stream",
     "text": [
      "java -Xmx2G -cp /home/pavel-kravchenko/sarus/releases/sarus-2.0.1.jar ru.autosome.SARUS /home/pavel-kravchenko/temp/result/all_mfa_indexing_file_no_NF.fasta /home/pavel-kravchenko/pwm/mono/ANDR_HUMAN/ANDR_HUMAN~CM~ANDR_HUMAN.PEAKS033090.macs.M.pwm --skipn --show-non-matching --output-scoring-mode score besthit > /home/pavel-kravchenko/temp/result/ANDR_HUMAN_PEAKS033090_macs_M_feature_compare_table.tab\n",
      "java -Xmx2G -cp /home/pavel-kravchenko/sarus/releases/sarus-2.0.1.jar ru.autosome.SARUS /home/pavel-kravchenko/temp/result/all_mfa_indexing_file_no_NF.fasta /home/pavel-kravchenko/pwm/mono/ANDR_HUMAN/ANDR_HUMAN~CM~ANDR_HUMAN.PEAKS033090.macs.S.pwm --skipn --show-non-matching --output-scoring-mode score besthit > /home/pavel-kravchenko/temp/result/ANDR_HUMAN_PEAKS033090_macs_M_feature_compare_table.tab\n",
      "java -Xmx2G -cp /home/pavel-kravchenko/sarus/releases/sarus-2.0.1.jar ru.autosome.SARUS /home/pavel-kravchenko/temp/result/all_mfa_indexing_file_no_NF.fasta /home/pavel-kravchenko/pwm/mono/ANDR_HUMAN/ANDR_HUMAN~CM~ANDR_HUMAN.PEAKS033090.pics.M.pwm --skipn --show-non-matching --output-scoring-mode score besthit > /home/pavel-kravchenko/temp/result/ANDR_HUMAN_PEAKS033090_macs_M_feature_compare_table.tab\n"
     ]
    }
   ],
   "source": [
    "o = 0\n",
    "for i in files_pwm:\n",
    "    #print(i, \".\".join(i.split(\"~\")[2].split(\".\")[:-1]))\n",
    "    #break\n",
    "    if \".\".join(files_pwm[0].split(\"~\")[2].split(\".\")[:-1]) in good_lines:\n",
    "        line = 'java -Xmx2G -cp {sarsus_home} ru.autosome.SARUS {mfa_file} {matrix} --skipn --show-non-matching --output-scoring-mode score besthit > {out_file}'.format(sarsus_home = root + \"/sarus/releases/sarus-2.0.1.jar\",\n",
    "        mfa_file = '/'.join([outputdir, \"all_mfa_indexing_file_no_NF.fasta\"]),\n",
    "        matrix = '/'.join([pwm, i]),\n",
    "        out_file = '/'.join([outputdir, \"_\".join(files_pwm[0].split(\"~\")[2].split(\".\")[:-1]) + \"_feature_compare_table.tab\"]))\n",
    "        p = subprocess.Popen(line, shell=True)\n",
    "        print(line)\n",
    "        p.wait()\n",
    "        o += 1\n",
    "        #break\n",
    "        if o == 3:\n",
    "            break\n",
    "    else:\n",
    "        print(\"NO!!!!!\")\n",
    "        "
   ]
  },
  {
   "cell_type": "code",
   "execution_count": 9,
   "metadata": {},
   "outputs": [
    {
     "name": "stdout",
     "output_type": "stream",
     "text": [
      "['ANDR_HUMAN_PEAKS033090_macs_M_feature_compare_table.tab']\n"
     ]
    }
   ],
   "source": [
    "temp_result = [f for f in os.listdir(outputdir) if os.path.splitext(f)[1] == '.tab']\n",
    "print(temp_result)"
   ]
  },
  {
   "cell_type": "code",
   "execution_count": 10,
   "metadata": {
    "collapsed": true
   },
   "outputs": [],
   "source": [
    "f = open(outputdir + \"/\" + temp_result[0], \"r\") \n",
    "names = []\n",
    "data = []\n",
    "fiter = fasta_iter(f)\n",
    "for seq_rec in fiter:\n",
    "    headerStr, seq = seq_rec\n",
    "    names.append(headerStr)\n",
    "    data.append(seq.split()[1])\n",
    "    #print(headerStr.split(\"_\"))"
   ]
  },
  {
   "cell_type": "code",
   "execution_count": 11,
   "metadata": {
    "collapsed": true
   },
   "outputs": [],
   "source": [
    "data_tuples = list(zip(names,data))\n",
    "df = pd.DataFrame(data_tuples, columns=['Name','Score'])"
   ]
  },
  {
   "cell_type": "code",
   "execution_count": 21,
   "metadata": {},
   "outputs": [
    {
     "data": {
      "text/html": [
       "<div>\n",
       "<style scoped>\n",
       "    .dataframe tbody tr th:only-of-type {\n",
       "        vertical-align: middle;\n",
       "    }\n",
       "\n",
       "    .dataframe tbody tr th {\n",
       "        vertical-align: top;\n",
       "    }\n",
       "\n",
       "    .dataframe thead th {\n",
       "        text-align: right;\n",
       "    }\n",
       "</style>\n",
       "<table border=\"1\" class=\"dataframe\">\n",
       "  <thead>\n",
       "    <tr style=\"text-align: right;\">\n",
       "      <th></th>\n",
       "      <th>Name</th>\n",
       "      <th>Score</th>\n",
       "    </tr>\n",
       "  </thead>\n",
       "  <tbody>\n",
       "    <tr>\n",
       "      <th>0</th>\n",
       "      <td>AEBP2_HUMAN_PEAKS034294_gem_train_globalInd_0_...</td>\n",
       "      <td>260</td>\n",
       "    </tr>\n",
       "    <tr>\n",
       "      <th>1</th>\n",
       "      <td>AEBP2_HUMAN_PEAKS034294_gem_train_globalInd_0_...</td>\n",
       "      <td>59</td>\n",
       "    </tr>\n",
       "    <tr>\n",
       "      <th>2</th>\n",
       "      <td>AEBP2_HUMAN_PEAKS034294_gem_train_globalInd_0_...</td>\n",
       "      <td>104</td>\n",
       "    </tr>\n",
       "    <tr>\n",
       "      <th>3</th>\n",
       "      <td>AEBP2_HUMAN_PEAKS034294_gem_train_globalInd_0_...</td>\n",
       "      <td>211</td>\n",
       "    </tr>\n",
       "    <tr>\n",
       "      <th>4</th>\n",
       "      <td>AEBP2_HUMAN_PEAKS034294_gem_train_globalInd_0_...</td>\n",
       "      <td>141</td>\n",
       "    </tr>\n",
       "    <tr>\n",
       "      <th>5</th>\n",
       "      <td>AEBP2_HUMAN_PEAKS034294_gem_train_globalInd_0_...</td>\n",
       "      <td>274</td>\n",
       "    </tr>\n",
       "    <tr>\n",
       "      <th>6</th>\n",
       "      <td>AEBP2_HUMAN_PEAKS034294_gem_train_globalInd_0_...</td>\n",
       "      <td>278</td>\n",
       "    </tr>\n",
       "    <tr>\n",
       "      <th>7</th>\n",
       "      <td>AEBP2_HUMAN_PEAKS034294_gem_train_globalInd_0_...</td>\n",
       "      <td>53</td>\n",
       "    </tr>\n",
       "    <tr>\n",
       "      <th>8</th>\n",
       "      <td>AEBP2_HUMAN_PEAKS034294_gem_train_globalInd_0_...</td>\n",
       "      <td>94</td>\n",
       "    </tr>\n",
       "    <tr>\n",
       "      <th>9</th>\n",
       "      <td>AEBP2_HUMAN_PEAKS034294_gem_train_globalInd_0_...</td>\n",
       "      <td>23</td>\n",
       "    </tr>\n",
       "    <tr>\n",
       "      <th>10</th>\n",
       "      <td>AEBP2_HUMAN_PEAKS034294_gem_train_globalInd_0_...</td>\n",
       "      <td>194</td>\n",
       "    </tr>\n",
       "    <tr>\n",
       "      <th>11</th>\n",
       "      <td>AEBP2_HUMAN_PEAKS034294_gem_train_globalInd_0_...</td>\n",
       "      <td>195</td>\n",
       "    </tr>\n",
       "    <tr>\n",
       "      <th>12</th>\n",
       "      <td>AEBP2_HUMAN_PEAKS034294_gem_train_globalInd_0_...</td>\n",
       "      <td>208</td>\n",
       "    </tr>\n",
       "    <tr>\n",
       "      <th>13</th>\n",
       "      <td>AEBP2_HUMAN_PEAKS034294_gem_train_globalInd_0_...</td>\n",
       "      <td>74</td>\n",
       "    </tr>\n",
       "    <tr>\n",
       "      <th>14</th>\n",
       "      <td>AEBP2_HUMAN_PEAKS034294_gem_train_globalInd_0_...</td>\n",
       "      <td>83</td>\n",
       "    </tr>\n",
       "    <tr>\n",
       "      <th>15</th>\n",
       "      <td>AEBP2_HUMAN_PEAKS034294_gem_train_globalInd_0_...</td>\n",
       "      <td>125</td>\n",
       "    </tr>\n",
       "    <tr>\n",
       "      <th>16</th>\n",
       "      <td>AEBP2_HUMAN_PEAKS034294_gem_train_globalInd_0_...</td>\n",
       "      <td>235</td>\n",
       "    </tr>\n",
       "    <tr>\n",
       "      <th>17</th>\n",
       "      <td>AEBP2_HUMAN_PEAKS034294_gem_train_globalInd_0_...</td>\n",
       "      <td>196</td>\n",
       "    </tr>\n",
       "    <tr>\n",
       "      <th>18</th>\n",
       "      <td>AEBP2_HUMAN_PEAKS034294_gem_train_globalInd_0_...</td>\n",
       "      <td>220</td>\n",
       "    </tr>\n",
       "    <tr>\n",
       "      <th>19</th>\n",
       "      <td>AEBP2_HUMAN_PEAKS034294_gem_train_globalInd_0_...</td>\n",
       "      <td>198</td>\n",
       "    </tr>\n",
       "    <tr>\n",
       "      <th>20</th>\n",
       "      <td>AEBP2_HUMAN_PEAKS034294_gem_train_globalInd_0_...</td>\n",
       "      <td>115</td>\n",
       "    </tr>\n",
       "    <tr>\n",
       "      <th>21</th>\n",
       "      <td>AEBP2_HUMAN_PEAKS034294_gem_train_globalInd_0_...</td>\n",
       "      <td>100</td>\n",
       "    </tr>\n",
       "    <tr>\n",
       "      <th>22</th>\n",
       "      <td>AEBP2_HUMAN_PEAKS034294_gem_train_globalInd_0_...</td>\n",
       "      <td>133</td>\n",
       "    </tr>\n",
       "    <tr>\n",
       "      <th>23</th>\n",
       "      <td>AEBP2_HUMAN_PEAKS034294_gem_train_globalInd_0_...</td>\n",
       "      <td>203</td>\n",
       "    </tr>\n",
       "    <tr>\n",
       "      <th>24</th>\n",
       "      <td>AEBP2_HUMAN_PEAKS034294_gem_train_globalInd_0_...</td>\n",
       "      <td>177</td>\n",
       "    </tr>\n",
       "    <tr>\n",
       "      <th>25</th>\n",
       "      <td>AEBP2_HUMAN_PEAKS034294_gem_train_globalInd_0_...</td>\n",
       "      <td>246</td>\n",
       "    </tr>\n",
       "    <tr>\n",
       "      <th>26</th>\n",
       "      <td>AEBP2_HUMAN_PEAKS034294_gem_train_globalInd_0_...</td>\n",
       "      <td>16</td>\n",
       "    </tr>\n",
       "    <tr>\n",
       "      <th>27</th>\n",
       "      <td>AEBP2_HUMAN_PEAKS034294_gem_train_globalInd_0_...</td>\n",
       "      <td>130</td>\n",
       "    </tr>\n",
       "    <tr>\n",
       "      <th>28</th>\n",
       "      <td>AEBP2_HUMAN_PEAKS034294_gem_train_globalInd_0_...</td>\n",
       "      <td>234</td>\n",
       "    </tr>\n",
       "    <tr>\n",
       "      <th>29</th>\n",
       "      <td>AEBP2_HUMAN_PEAKS034294_gem_train_globalInd_0_...</td>\n",
       "      <td>73</td>\n",
       "    </tr>\n",
       "    <tr>\n",
       "      <th>...</th>\n",
       "      <td>...</td>\n",
       "      <td>...</td>\n",
       "    </tr>\n",
       "    <tr>\n",
       "      <th>999970</th>\n",
       "      <td>CTCF_HUMAN_PEAKS034938_macs_train_globalInd_20...</td>\n",
       "      <td>21</td>\n",
       "    </tr>\n",
       "    <tr>\n",
       "      <th>999971</th>\n",
       "      <td>CTCF_HUMAN_PEAKS034938_macs_train_globalInd_20...</td>\n",
       "      <td>67</td>\n",
       "    </tr>\n",
       "    <tr>\n",
       "      <th>999972</th>\n",
       "      <td>CTCF_HUMAN_PEAKS034938_macs_train_globalInd_20...</td>\n",
       "      <td>60</td>\n",
       "    </tr>\n",
       "    <tr>\n",
       "      <th>999973</th>\n",
       "      <td>CTCF_HUMAN_PEAKS034938_macs_train_globalInd_20...</td>\n",
       "      <td>253</td>\n",
       "    </tr>\n",
       "    <tr>\n",
       "      <th>999974</th>\n",
       "      <td>CTCF_HUMAN_PEAKS034938_macs_train_globalInd_20...</td>\n",
       "      <td>279</td>\n",
       "    </tr>\n",
       "    <tr>\n",
       "      <th>999975</th>\n",
       "      <td>CTCF_HUMAN_PEAKS034938_macs_train_globalInd_20...</td>\n",
       "      <td>200</td>\n",
       "    </tr>\n",
       "    <tr>\n",
       "      <th>999976</th>\n",
       "      <td>CTCF_HUMAN_PEAKS034938_macs_train_globalInd_20...</td>\n",
       "      <td>62</td>\n",
       "    </tr>\n",
       "    <tr>\n",
       "      <th>999977</th>\n",
       "      <td>CTCF_HUMAN_PEAKS034938_macs_train_globalInd_20...</td>\n",
       "      <td>257</td>\n",
       "    </tr>\n",
       "    <tr>\n",
       "      <th>999978</th>\n",
       "      <td>CTCF_HUMAN_PEAKS034938_macs_train_globalInd_20...</td>\n",
       "      <td>156</td>\n",
       "    </tr>\n",
       "    <tr>\n",
       "      <th>999979</th>\n",
       "      <td>CTCF_HUMAN_PEAKS034938_macs_train_globalInd_20...</td>\n",
       "      <td>168</td>\n",
       "    </tr>\n",
       "    <tr>\n",
       "      <th>999980</th>\n",
       "      <td>CTCF_HUMAN_PEAKS034938_macs_train_globalInd_20...</td>\n",
       "      <td>219</td>\n",
       "    </tr>\n",
       "    <tr>\n",
       "      <th>999981</th>\n",
       "      <td>CTCF_HUMAN_PEAKS034938_macs_train_globalInd_20...</td>\n",
       "      <td>264</td>\n",
       "    </tr>\n",
       "    <tr>\n",
       "      <th>999982</th>\n",
       "      <td>CTCF_HUMAN_PEAKS034938_macs_train_globalInd_20...</td>\n",
       "      <td>149</td>\n",
       "    </tr>\n",
       "    <tr>\n",
       "      <th>999983</th>\n",
       "      <td>CTCF_HUMAN_PEAKS034938_macs_train_globalInd_20...</td>\n",
       "      <td>281</td>\n",
       "    </tr>\n",
       "    <tr>\n",
       "      <th>999984</th>\n",
       "      <td>CTCF_HUMAN_PEAKS034938_macs_train_globalInd_20...</td>\n",
       "      <td>179</td>\n",
       "    </tr>\n",
       "    <tr>\n",
       "      <th>999985</th>\n",
       "      <td>CTCF_HUMAN_PEAKS034938_macs_train_globalInd_20...</td>\n",
       "      <td>120</td>\n",
       "    </tr>\n",
       "    <tr>\n",
       "      <th>999986</th>\n",
       "      <td>CTCF_HUMAN_PEAKS034938_macs_train_globalInd_20...</td>\n",
       "      <td>225</td>\n",
       "    </tr>\n",
       "    <tr>\n",
       "      <th>999987</th>\n",
       "      <td>CTCF_HUMAN_PEAKS034938_macs_train_globalInd_20...</td>\n",
       "      <td>11</td>\n",
       "    </tr>\n",
       "    <tr>\n",
       "      <th>999988</th>\n",
       "      <td>CTCF_HUMAN_PEAKS034938_macs_train_globalInd_20...</td>\n",
       "      <td>275</td>\n",
       "    </tr>\n",
       "    <tr>\n",
       "      <th>999989</th>\n",
       "      <td>CTCF_HUMAN_PEAKS034938_macs_train_globalInd_20...</td>\n",
       "      <td>177</td>\n",
       "    </tr>\n",
       "    <tr>\n",
       "      <th>999990</th>\n",
       "      <td>CTCF_HUMAN_PEAKS034938_macs_train_globalInd_20...</td>\n",
       "      <td>281</td>\n",
       "    </tr>\n",
       "    <tr>\n",
       "      <th>999991</th>\n",
       "      <td>CTCF_HUMAN_PEAKS034938_macs_train_globalInd_20...</td>\n",
       "      <td>197</td>\n",
       "    </tr>\n",
       "    <tr>\n",
       "      <th>999992</th>\n",
       "      <td>CTCF_HUMAN_PEAKS034938_macs_train_globalInd_20...</td>\n",
       "      <td>143</td>\n",
       "    </tr>\n",
       "    <tr>\n",
       "      <th>999993</th>\n",
       "      <td>CTCF_HUMAN_PEAKS034938_macs_train_globalInd_20...</td>\n",
       "      <td>258</td>\n",
       "    </tr>\n",
       "    <tr>\n",
       "      <th>999994</th>\n",
       "      <td>CTCF_HUMAN_PEAKS034938_macs_train_globalInd_20...</td>\n",
       "      <td>12</td>\n",
       "    </tr>\n",
       "    <tr>\n",
       "      <th>999995</th>\n",
       "      <td>CTCF_HUMAN_PEAKS034938_macs_train_globalInd_20...</td>\n",
       "      <td>4</td>\n",
       "    </tr>\n",
       "    <tr>\n",
       "      <th>999996</th>\n",
       "      <td>CTCF_HUMAN_PEAKS034938_macs_train_globalInd_20...</td>\n",
       "      <td>170</td>\n",
       "    </tr>\n",
       "    <tr>\n",
       "      <th>999997</th>\n",
       "      <td>CTCF_HUMAN_PEAKS034938_macs_train_globalInd_20...</td>\n",
       "      <td>281</td>\n",
       "    </tr>\n",
       "    <tr>\n",
       "      <th>999998</th>\n",
       "      <td>CTCF_HUMAN_PEAKS034938_macs_train_globalInd_20...</td>\n",
       "      <td>196</td>\n",
       "    </tr>\n",
       "    <tr>\n",
       "      <th>999999</th>\n",
       "      <td>CTCF_HUMAN_PEAKS034938_macs_train_globalInd_20...</td>\n",
       "      <td>29</td>\n",
       "    </tr>\n",
       "  </tbody>\n",
       "</table>\n",
       "<p>1000000 rows × 2 columns</p>\n",
       "</div>"
      ],
      "text/plain": [
       "                                                     Name Score\n",
       "0       AEBP2_HUMAN_PEAKS034294_gem_train_globalInd_0_...   260\n",
       "1       AEBP2_HUMAN_PEAKS034294_gem_train_globalInd_0_...    59\n",
       "2       AEBP2_HUMAN_PEAKS034294_gem_train_globalInd_0_...   104\n",
       "3       AEBP2_HUMAN_PEAKS034294_gem_train_globalInd_0_...   211\n",
       "4       AEBP2_HUMAN_PEAKS034294_gem_train_globalInd_0_...   141\n",
       "5       AEBP2_HUMAN_PEAKS034294_gem_train_globalInd_0_...   274\n",
       "6       AEBP2_HUMAN_PEAKS034294_gem_train_globalInd_0_...   278\n",
       "7       AEBP2_HUMAN_PEAKS034294_gem_train_globalInd_0_...    53\n",
       "8       AEBP2_HUMAN_PEAKS034294_gem_train_globalInd_0_...    94\n",
       "9       AEBP2_HUMAN_PEAKS034294_gem_train_globalInd_0_...    23\n",
       "10      AEBP2_HUMAN_PEAKS034294_gem_train_globalInd_0_...   194\n",
       "11      AEBP2_HUMAN_PEAKS034294_gem_train_globalInd_0_...   195\n",
       "12      AEBP2_HUMAN_PEAKS034294_gem_train_globalInd_0_...   208\n",
       "13      AEBP2_HUMAN_PEAKS034294_gem_train_globalInd_0_...    74\n",
       "14      AEBP2_HUMAN_PEAKS034294_gem_train_globalInd_0_...    83\n",
       "15      AEBP2_HUMAN_PEAKS034294_gem_train_globalInd_0_...   125\n",
       "16      AEBP2_HUMAN_PEAKS034294_gem_train_globalInd_0_...   235\n",
       "17      AEBP2_HUMAN_PEAKS034294_gem_train_globalInd_0_...   196\n",
       "18      AEBP2_HUMAN_PEAKS034294_gem_train_globalInd_0_...   220\n",
       "19      AEBP2_HUMAN_PEAKS034294_gem_train_globalInd_0_...   198\n",
       "20      AEBP2_HUMAN_PEAKS034294_gem_train_globalInd_0_...   115\n",
       "21      AEBP2_HUMAN_PEAKS034294_gem_train_globalInd_0_...   100\n",
       "22      AEBP2_HUMAN_PEAKS034294_gem_train_globalInd_0_...   133\n",
       "23      AEBP2_HUMAN_PEAKS034294_gem_train_globalInd_0_...   203\n",
       "24      AEBP2_HUMAN_PEAKS034294_gem_train_globalInd_0_...   177\n",
       "25      AEBP2_HUMAN_PEAKS034294_gem_train_globalInd_0_...   246\n",
       "26      AEBP2_HUMAN_PEAKS034294_gem_train_globalInd_0_...    16\n",
       "27      AEBP2_HUMAN_PEAKS034294_gem_train_globalInd_0_...   130\n",
       "28      AEBP2_HUMAN_PEAKS034294_gem_train_globalInd_0_...   234\n",
       "29      AEBP2_HUMAN_PEAKS034294_gem_train_globalInd_0_...    73\n",
       "...                                                   ...   ...\n",
       "999970  CTCF_HUMAN_PEAKS034938_macs_train_globalInd_20...    21\n",
       "999971  CTCF_HUMAN_PEAKS034938_macs_train_globalInd_20...    67\n",
       "999972  CTCF_HUMAN_PEAKS034938_macs_train_globalInd_20...    60\n",
       "999973  CTCF_HUMAN_PEAKS034938_macs_train_globalInd_20...   253\n",
       "999974  CTCF_HUMAN_PEAKS034938_macs_train_globalInd_20...   279\n",
       "999975  CTCF_HUMAN_PEAKS034938_macs_train_globalInd_20...   200\n",
       "999976  CTCF_HUMAN_PEAKS034938_macs_train_globalInd_20...    62\n",
       "999977  CTCF_HUMAN_PEAKS034938_macs_train_globalInd_20...   257\n",
       "999978  CTCF_HUMAN_PEAKS034938_macs_train_globalInd_20...   156\n",
       "999979  CTCF_HUMAN_PEAKS034938_macs_train_globalInd_20...   168\n",
       "999980  CTCF_HUMAN_PEAKS034938_macs_train_globalInd_20...   219\n",
       "999981  CTCF_HUMAN_PEAKS034938_macs_train_globalInd_20...   264\n",
       "999982  CTCF_HUMAN_PEAKS034938_macs_train_globalInd_20...   149\n",
       "999983  CTCF_HUMAN_PEAKS034938_macs_train_globalInd_20...   281\n",
       "999984  CTCF_HUMAN_PEAKS034938_macs_train_globalInd_20...   179\n",
       "999985  CTCF_HUMAN_PEAKS034938_macs_train_globalInd_20...   120\n",
       "999986  CTCF_HUMAN_PEAKS034938_macs_train_globalInd_20...   225\n",
       "999987  CTCF_HUMAN_PEAKS034938_macs_train_globalInd_20...    11\n",
       "999988  CTCF_HUMAN_PEAKS034938_macs_train_globalInd_20...   275\n",
       "999989  CTCF_HUMAN_PEAKS034938_macs_train_globalInd_20...   177\n",
       "999990  CTCF_HUMAN_PEAKS034938_macs_train_globalInd_20...   281\n",
       "999991  CTCF_HUMAN_PEAKS034938_macs_train_globalInd_20...   197\n",
       "999992  CTCF_HUMAN_PEAKS034938_macs_train_globalInd_20...   143\n",
       "999993  CTCF_HUMAN_PEAKS034938_macs_train_globalInd_20...   258\n",
       "999994  CTCF_HUMAN_PEAKS034938_macs_train_globalInd_20...    12\n",
       "999995  CTCF_HUMAN_PEAKS034938_macs_train_globalInd_20...     4\n",
       "999996  CTCF_HUMAN_PEAKS034938_macs_train_globalInd_20...   170\n",
       "999997  CTCF_HUMAN_PEAKS034938_macs_train_globalInd_20...   281\n",
       "999998  CTCF_HUMAN_PEAKS034938_macs_train_globalInd_20...   196\n",
       "999999  CTCF_HUMAN_PEAKS034938_macs_train_globalInd_20...    29\n",
       "\n",
       "[1000000 rows x 2 columns]"
      ]
     },
     "execution_count": 21,
     "metadata": {},
     "output_type": "execute_result"
    }
   ],
   "source": [
    "df.head(1000000)"
   ]
  },
  {
   "cell_type": "code",
   "execution_count": 13,
   "metadata": {},
   "outputs": [
    {
     "data": {
      "text/html": [
       "<div>\n",
       "<style scoped>\n",
       "    .dataframe tbody tr th:only-of-type {\n",
       "        vertical-align: middle;\n",
       "    }\n",
       "\n",
       "    .dataframe tbody tr th {\n",
       "        vertical-align: top;\n",
       "    }\n",
       "\n",
       "    .dataframe thead th {\n",
       "        text-align: right;\n",
       "    }\n",
       "</style>\n",
       "<table border=\"1\" class=\"dataframe\">\n",
       "  <thead>\n",
       "    <tr style=\"text-align: right;\">\n",
       "      <th></th>\n",
       "      <th>Name</th>\n",
       "      <th>Score</th>\n",
       "    </tr>\n",
       "  </thead>\n",
       "  <tbody>\n",
       "    <tr>\n",
       "      <th>4461</th>\n",
       "      <td>ANDR_HUMAN_PEAKS033090_macs_train_globalInd_9_...</td>\n",
       "      <td>158</td>\n",
       "    </tr>\n",
       "    <tr>\n",
       "      <th>4462</th>\n",
       "      <td>ANDR_HUMAN_PEAKS033090_macs_train_globalInd_9_...</td>\n",
       "      <td>49</td>\n",
       "    </tr>\n",
       "    <tr>\n",
       "      <th>4463</th>\n",
       "      <td>ANDR_HUMAN_PEAKS033090_macs_train_globalInd_9_...</td>\n",
       "      <td>128</td>\n",
       "    </tr>\n",
       "    <tr>\n",
       "      <th>4464</th>\n",
       "      <td>ANDR_HUMAN_PEAKS033090_macs_train_globalInd_9_...</td>\n",
       "      <td>280</td>\n",
       "    </tr>\n",
       "    <tr>\n",
       "      <th>4465</th>\n",
       "      <td>ANDR_HUMAN_PEAKS033090_macs_train_globalInd_9_...</td>\n",
       "      <td>132</td>\n",
       "    </tr>\n",
       "  </tbody>\n",
       "</table>\n",
       "</div>"
      ],
      "text/plain": [
       "                                                   Name Score\n",
       "4461  ANDR_HUMAN_PEAKS033090_macs_train_globalInd_9_...   158\n",
       "4462  ANDR_HUMAN_PEAKS033090_macs_train_globalInd_9_...    49\n",
       "4463  ANDR_HUMAN_PEAKS033090_macs_train_globalInd_9_...   128\n",
       "4464  ANDR_HUMAN_PEAKS033090_macs_train_globalInd_9_...   280\n",
       "4465  ANDR_HUMAN_PEAKS033090_macs_train_globalInd_9_...   132"
      ]
     },
     "execution_count": 13,
     "metadata": {},
     "output_type": "execute_result"
    }
   ],
   "source": [
    "train_pos = [\"_\".join(x) == \"ANDR_HUMAN\" for x in df['Name'].str.split('_').str[:2]]\n",
    "train_pos = df[train_pos]\n",
    "train_pos.head()"
   ]
  },
  {
   "cell_type": "code",
   "execution_count": 22,
   "metadata": {},
   "outputs": [
    {
     "data": {
      "text/html": [
       "<div>\n",
       "<style scoped>\n",
       "    .dataframe tbody tr th:only-of-type {\n",
       "        vertical-align: middle;\n",
       "    }\n",
       "\n",
       "    .dataframe tbody tr th {\n",
       "        vertical-align: top;\n",
       "    }\n",
       "\n",
       "    .dataframe thead th {\n",
       "        text-align: right;\n",
       "    }\n",
       "</style>\n",
       "<table border=\"1\" class=\"dataframe\">\n",
       "  <thead>\n",
       "    <tr style=\"text-align: right;\">\n",
       "      <th></th>\n",
       "      <th>Name</th>\n",
       "      <th>Score</th>\n",
       "    </tr>\n",
       "  </thead>\n",
       "  <tbody>\n",
       "    <tr>\n",
       "      <th>799194</th>\n",
       "      <td>CTCF_HUMAN_PEAKS033146_gem_train_globalInd_166...</td>\n",
       "      <td>233</td>\n",
       "    </tr>\n",
       "    <tr>\n",
       "      <th>799195</th>\n",
       "      <td>CTCF_HUMAN_PEAKS033146_gem_train_globalInd_166...</td>\n",
       "      <td>41</td>\n",
       "    </tr>\n",
       "    <tr>\n",
       "      <th>799196</th>\n",
       "      <td>CTCF_HUMAN_PEAKS033146_gem_train_globalInd_166...</td>\n",
       "      <td>117</td>\n",
       "    </tr>\n",
       "    <tr>\n",
       "      <th>799197</th>\n",
       "      <td>CTCF_HUMAN_PEAKS033146_gem_train_globalInd_166...</td>\n",
       "      <td>265</td>\n",
       "    </tr>\n",
       "    <tr>\n",
       "      <th>799198</th>\n",
       "      <td>CTCF_HUMAN_PEAKS033146_gem_train_globalInd_166...</td>\n",
       "      <td>224</td>\n",
       "    </tr>\n",
       "  </tbody>\n",
       "</table>\n",
       "</div>"
      ],
      "text/plain": [
       "                                                     Name Score\n",
       "799194  CTCF_HUMAN_PEAKS033146_gem_train_globalInd_166...   233\n",
       "799195  CTCF_HUMAN_PEAKS033146_gem_train_globalInd_166...    41\n",
       "799196  CTCF_HUMAN_PEAKS033146_gem_train_globalInd_166...   117\n",
       "799197  CTCF_HUMAN_PEAKS033146_gem_train_globalInd_166...   265\n",
       "799198  CTCF_HUMAN_PEAKS033146_gem_train_globalInd_166...   224"
      ]
     },
     "execution_count": 22,
     "metadata": {},
     "output_type": "execute_result"
    }
   ],
   "source": [
    "train_neg = [\"_\".join(x) == \"CTCF_HUMAN\" for x in df['Name'].str.split('_').str[:2]]\n",
    "train_neg = df[train_neg]\n",
    "train_neg.head()"
   ]
  },
  {
   "cell_type": "code",
   "execution_count": null,
   "metadata": {
    "collapsed": true
   },
   "outputs": [],
   "source": [
    "#train_pos = [df.loc[i][0][:10] == \"ANDR_HUMAN\" for i in range(df.shape[0])]\n",
    "#train_pos = df[train_pos]\n",
    "#train_pos.head(10)\n",
    "#print(train_pos)"
   ]
  },
  {
   "cell_type": "code",
   "execution_count": null,
   "metadata": {
    "collapsed": true
   },
   "outputs": [],
   "source": [
    "#train_neg = [df.loc[i][0][:10] != \"ANDR_HUMAN\" for i in range(df.shape[0])]\n",
    "#train_neg = df[train_pos]\n",
    "#train_neg.head(10)"
   ]
  },
  {
   "cell_type": "code",
   "execution_count": 23,
   "metadata": {},
   "outputs": [
    {
     "data": {
      "text/html": [
       "<div>\n",
       "<style scoped>\n",
       "    .dataframe tbody tr th:only-of-type {\n",
       "        vertical-align: middle;\n",
       "    }\n",
       "\n",
       "    .dataframe tbody tr th {\n",
       "        vertical-align: top;\n",
       "    }\n",
       "\n",
       "    .dataframe thead th {\n",
       "        text-align: right;\n",
       "    }\n",
       "</style>\n",
       "<table border=\"1\" class=\"dataframe\">\n",
       "  <thead>\n",
       "    <tr style=\"text-align: right;\">\n",
       "      <th></th>\n",
       "      <th>Name</th>\n",
       "      <th>Score</th>\n",
       "      <th>ind</th>\n",
       "    </tr>\n",
       "  </thead>\n",
       "  <tbody>\n",
       "    <tr>\n",
       "      <th>4461</th>\n",
       "      <td>ANDR_HUMAN_PEAKS033090_macs_train_globalInd_9_...</td>\n",
       "      <td>158</td>\n",
       "      <td>1</td>\n",
       "    </tr>\n",
       "    <tr>\n",
       "      <th>4462</th>\n",
       "      <td>ANDR_HUMAN_PEAKS033090_macs_train_globalInd_9_...</td>\n",
       "      <td>49</td>\n",
       "      <td>1</td>\n",
       "    </tr>\n",
       "    <tr>\n",
       "      <th>4463</th>\n",
       "      <td>ANDR_HUMAN_PEAKS033090_macs_train_globalInd_9_...</td>\n",
       "      <td>128</td>\n",
       "      <td>1</td>\n",
       "    </tr>\n",
       "    <tr>\n",
       "      <th>4464</th>\n",
       "      <td>ANDR_HUMAN_PEAKS033090_macs_train_globalInd_9_...</td>\n",
       "      <td>280</td>\n",
       "      <td>1</td>\n",
       "    </tr>\n",
       "    <tr>\n",
       "      <th>4465</th>\n",
       "      <td>ANDR_HUMAN_PEAKS033090_macs_train_globalInd_9_...</td>\n",
       "      <td>132</td>\n",
       "      <td>1</td>\n",
       "    </tr>\n",
       "  </tbody>\n",
       "</table>\n",
       "</div>"
      ],
      "text/plain": [
       "                                                   Name Score  ind\n",
       "4461  ANDR_HUMAN_PEAKS033090_macs_train_globalInd_9_...   158    1\n",
       "4462  ANDR_HUMAN_PEAKS033090_macs_train_globalInd_9_...    49    1\n",
       "4463  ANDR_HUMAN_PEAKS033090_macs_train_globalInd_9_...   128    1\n",
       "4464  ANDR_HUMAN_PEAKS033090_macs_train_globalInd_9_...   280    1\n",
       "4465  ANDR_HUMAN_PEAKS033090_macs_train_globalInd_9_...   132    1"
      ]
     },
     "execution_count": 23,
     "metadata": {},
     "output_type": "execute_result"
    }
   ],
   "source": [
    "arr1 = [1] * len(train_pos)\n",
    "df1 = train_pos.assign(ind=arr1)\n",
    "df1.head(10)\n",
    "\n",
    "arr2 = [0] * len(train_neg)\n",
    "df2 = train_neg.assign(ind=arr2)\n",
    "df2.head(10)\n",
    "\n",
    "result = pd.concat([df1, df2])\n",
    "#result.head(10)\n",
    "#print(len(result.iloc[:,1:2]))\n",
    "result.head()"
   ]
  },
  {
   "cell_type": "code",
   "execution_count": 5,
   "metadata": {},
   "outputs": [],
   "source": [
    "#result.head(1000001)"
   ]
  },
  {
   "cell_type": "code",
   "execution_count": 12,
   "metadata": {
    "collapsed": true
   },
   "outputs": [],
   "source": [
    "pd.DataFrame.to_csv(result, outputdir + \"/work_table.csv\")"
   ]
  },
  {
   "cell_type": "code",
   "execution_count": 16,
   "metadata": {},
   "outputs": [
    {
     "name": "stderr",
     "output_type": "stream",
     "text": [
      "/usr/lib64/python3.4/site-packages/sklearn/cross_validation.py:41: DeprecationWarning: This module was deprecated in version 0.18 in favor of the model_selection module into which all the refactored classes and functions are moved. Also note that the interface of the new CV iterators are different from that of this module. This module will be removed in 0.20.\n",
      "  \"This module will be removed in 0.20.\", DeprecationWarning)\n"
     ]
    }
   ],
   "source": [
    "from sklearn.cross_validation import train_test_split\n",
    "from sklearn.linear_model import LogisticRegression\n",
    "from sklearn.metrics import roc_auc_score, average_precision_score, accuracy_score"
   ]
  },
  {
   "cell_type": "code",
   "execution_count": 24,
   "metadata": {},
   "outputs": [
    {
     "name": "stderr",
     "output_type": "stream",
     "text": [
      "/usr/lib/python3.4/site-packages/ipykernel_launcher.py:1: FutureWarning: reshape is deprecated and will raise in a subsequent release. Please use .values.reshape(...) instead\n",
      "  \"\"\"Entry point for launching an IPython kernel.\n"
     ]
    }
   ],
   "source": [
    "X, Y = result[\"Score\"].reshape(-1, 1), result[\"ind\"].reshape(-1, 1) # X - features, y - +/- -> 1/0\n",
    "X_train, X_test, Y_train, Y_test = train_test_split(X, Y)"
   ]
  },
  {
   "cell_type": "code",
   "execution_count": 27,
   "metadata": {},
   "outputs": [
    {
     "name": "stdout",
     "output_type": "stream",
     "text": [
      "467101\n",
      "467101\n"
     ]
    }
   ],
   "source": [
    "print(len(X))\n",
    "print(len(Y))\n"
   ]
  },
  {
   "cell_type": "code",
   "execution_count": 25,
   "metadata": {},
   "outputs": [
    {
     "name": "stderr",
     "output_type": "stream",
     "text": [
      "/usr/lib64/python3.4/site-packages/sklearn/utils/validation.py:578: DataConversionWarning: A column-vector y was passed when a 1d array was expected. Please change the shape of y to (n_samples, ), for example using ravel().\n",
      "  y = column_or_1d(y, warn=True)\n"
     ]
    }
   ],
   "source": [
    "model = LogisticRegression()\n",
    "model.fit(X_train, Y_train)\n",
    "Y_test_predicted_proba = model.predict_proba(X_test)[:, 0]"
   ]
  },
  {
   "cell_type": "code",
   "execution_count": 26,
   "metadata": {},
   "outputs": [
    {
     "name": "stdout",
     "output_type": "stream",
     "text": [
      "0.41144609492680684\n",
      "0.40020166088199366\n"
     ]
    }
   ],
   "source": [
    "print(roc_auc_score(y_score=Y_test_predicted_proba, y_true=Y_test))\n",
    "print(average_precision_score(y_score=Y_test_predicted_proba, y_true=Y_test))"
   ]
  },
  {
   "cell_type": "code",
   "execution_count": null,
   "metadata": {
    "collapsed": true
   },
   "outputs": [],
   "source": [
    "print(__doc__)\n",
    "\n",
    "import numpy as np\n",
    "import matplotlib.pyplot as plt\n",
    "from itertools import cycle\n",
    "\n",
    "from sklearn import svm, datasets\n",
    "from sklearn.metrics import roc_curve, auc\n",
    "from sklearn.model_selection import train_test_split\n",
    "from sklearn.preprocessing import label_binarize\n",
    "from sklearn.multiclass import OneVsRestClassifier\n",
    "from scipy import interp\n",
    "\n",
    "# Import some data to play with\n",
    "result1 = result.sample(10000)\n",
    "X = result1[\"Score\"].reshape(-1, 1)\n",
    "y = result1[\"ind\"].reshape(-1, 1)\n",
    "\n",
    "\n",
    "# shuffle and split training and test sets\n",
    "X_train, X_test, y_train, y_test = train_test_split(X, y, test_size=.5,\n",
    "                                                    random_state=0)\n",
    "\n",
    "# Learn to predict each class against the other\n",
    "classifier = OneVsRestClassifier(svm.SVC(kernel='linear', probability=True, random_state=0))\n",
    "y_score = classifier.fit(X_train, y_train).decision_function(X_test)\n",
    "\n",
    "# Compute ROC curve and ROC area for each class\n",
    "fpr = dict()\n",
    "tpr = dict()\n",
    "roc_auc = dict()\n",
    "for i in range(n_classes):\n",
    "    fpr[i], tpr[i], _ = roc_curve(y_test[:, i], y_score[:, i])\n",
    "    roc_auc[i] = auc(fpr[i], tpr[i])\n",
    "\n",
    "# Compute micro-average ROC curve and ROC area\n",
    "fpr[\"micro\"], tpr[\"micro\"], _ = roc_curve(y_test.ravel(), y_score.ravel())\n",
    "roc_auc[\"micro\"] = auc(fpr[\"micro\"], tpr[\"micro\"])\n",
    "\n",
    "\n",
    "plt.figure()\n",
    "lw = 2\n",
    "plt.plot(fpr[2], tpr[2], color='darkorange',\n",
    "         lw=lw, label='ROC curve (area = %0.2f)' % roc_auc[2])\n",
    "plt.plot([0, 1], [0, 1], color='navy', lw=lw, linestyle='--')\n",
    "plt.xlim([0.0, 1.0])\n",
    "plt.ylim([0.0, 1.05])\n",
    "plt.xlabel('False Positive Rate')\n",
    "plt.ylabel('True Positive Rate')\n",
    "plt.title('Receiver operating characteristic example')\n",
    "plt.legend(loc=\"lower right\")\n",
    "plt.show()"
   ]
  },
  {
   "cell_type": "code",
   "execution_count": null,
   "metadata": {
    "collapsed": true
   },
   "outputs": [],
   "source": []
  }
 ],
 "metadata": {
  "kernelspec": {
   "display_name": "Python 3",
   "language": "python",
   "name": "python3"
  },
  "language_info": {
   "codemirror_mode": {
    "name": "ipython",
    "version": 3
   },
   "file_extension": ".py",
   "mimetype": "text/x-python",
   "name": "python",
   "nbconvert_exporter": "python",
   "pygments_lexer": "ipython3",
   "version": "3.6.5"
  }
 },
 "nbformat": 4,
 "nbformat_minor": 2
}
